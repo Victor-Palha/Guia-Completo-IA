{
 "cells": [
  {
   "cell_type": "code",
   "execution_count": 91,
   "metadata": {},
   "outputs": [],
   "source": [
    "import pandas as pd "
   ]
  },
  {
   "cell_type": "code",
   "execution_count": 92,
   "metadata": {},
   "outputs": [],
   "source": [
    "# Criando um dicionário para ser transformado em um DataFrame\n",
    "dict_pessoas = {\n",
    "    \"nome\": [\"João\", \"Maria\", \"José\"],\n",
    "    \"idade\": [20, 30, 40],\n",
    "    \"sexo\": [\"M\", \"F\", \"M\"]\n",
    "}"
   ]
  },
  {
   "cell_type": "code",
   "execution_count": 93,
   "metadata": {},
   "outputs": [],
   "source": [
    "## A partir do dicionário, vamos criar um dataframe\n",
    "\n",
    "df_pessoas = pd.DataFrame.from_dict(dict_pessoas)"
   ]
  },
  {
   "cell_type": "code",
   "execution_count": 94,
   "metadata": {},
   "outputs": [
    {
     "data": {
      "text/html": [
       "<div>\n",
       "<style scoped>\n",
       "    .dataframe tbody tr th:only-of-type {\n",
       "        vertical-align: middle;\n",
       "    }\n",
       "\n",
       "    .dataframe tbody tr th {\n",
       "        vertical-align: top;\n",
       "    }\n",
       "\n",
       "    .dataframe thead th {\n",
       "        text-align: right;\n",
       "    }\n",
       "</style>\n",
       "<table border=\"1\" class=\"dataframe\">\n",
       "  <thead>\n",
       "    <tr style=\"text-align: right;\">\n",
       "      <th></th>\n",
       "      <th>nome</th>\n",
       "      <th>idade</th>\n",
       "      <th>sexo</th>\n",
       "    </tr>\n",
       "  </thead>\n",
       "  <tbody>\n",
       "    <tr>\n",
       "      <th>0</th>\n",
       "      <td>João</td>\n",
       "      <td>20</td>\n",
       "      <td>M</td>\n",
       "    </tr>\n",
       "    <tr>\n",
       "      <th>1</th>\n",
       "      <td>Maria</td>\n",
       "      <td>30</td>\n",
       "      <td>F</td>\n",
       "    </tr>\n",
       "    <tr>\n",
       "      <th>2</th>\n",
       "      <td>José</td>\n",
       "      <td>40</td>\n",
       "      <td>M</td>\n",
       "    </tr>\n",
       "  </tbody>\n",
       "</table>\n",
       "</div>"
      ],
      "text/plain": [
       "    nome  idade sexo\n",
       "0   João     20    M\n",
       "1  Maria     30    F\n",
       "2   José     40    M"
      ]
     },
     "execution_count": 94,
     "metadata": {},
     "output_type": "execute_result"
    }
   ],
   "source": [
    "# Imprimindo o dataframe\n",
    "df_pessoas"
   ]
  },
  {
   "cell_type": "markdown",
   "metadata": {},
   "source": [
    "### Medidas de posição\n",
    "Medidas de posição são medidas que resumem um conjunto de dados em um único valor, você pode lembrar delas das suas aulas de matemática. As principais medidas de posição são:"
   ]
  },
  {
   "cell_type": "code",
   "execution_count": 95,
   "metadata": {},
   "outputs": [
    {
     "data": {
      "text/plain": [
       "30.0"
      ]
     },
     "execution_count": 95,
     "metadata": {},
     "output_type": "execute_result"
    }
   ],
   "source": [
    "# Média\n",
    "df_pessoas[\"idade\"].mean()"
   ]
  },
  {
   "cell_type": "code",
   "execution_count": 96,
   "metadata": {},
   "outputs": [
    {
     "data": {
      "text/plain": [
       "30.0"
      ]
     },
     "execution_count": 96,
     "metadata": {},
     "output_type": "execute_result"
    }
   ],
   "source": [
    "# Mediana\n",
    "df_pessoas[\"idade\"].median()"
   ]
  },
  {
   "cell_type": "code",
   "execution_count": 97,
   "metadata": {},
   "outputs": [
    {
     "data": {
      "text/plain": [
       "0    20\n",
       "1    30\n",
       "2    40\n",
       "Name: idade, dtype: int64"
      ]
     },
     "execution_count": 97,
     "metadata": {},
     "output_type": "execute_result"
    }
   ],
   "source": [
    "# Moda\n",
    "df_pessoas[\"idade\"].mode()"
   ]
  },
  {
   "cell_type": "markdown",
   "metadata": {},
   "source": [
    "## Criando dicinário com dados de exemplo\n",
    "Com exemplo anterior foi possível entender como que o pandas trabalha com dados, agora vamos criar um dicionário com dados de exemplo para que possamos trabalhar com dados mais interessantes."
   ]
  },
  {
   "cell_type": "code",
   "execution_count": 98,
   "metadata": {},
   "outputs": [],
   "source": [
    "dict_medidas = {\n",
    "    \"idade\": [15, 18, 25, 25, 40, 55, 58, 60, 80],\n",
    "    \"altura\": [160, 162, 165, 168, 172, 174, 174, 174, 176], #Altura em cm\n",
    "}"
   ]
  },
  {
   "cell_type": "code",
   "execution_count": 99,
   "metadata": {},
   "outputs": [],
   "source": [
    "# Criando novo dataframe\n",
    "df_medidas = pd.DataFrame.from_dict(dict_medidas)"
   ]
  },
  {
   "cell_type": "code",
   "execution_count": 100,
   "metadata": {},
   "outputs": [
    {
     "name": "stdout",
     "output_type": "stream",
     "text": [
      "Idade: 41.77777777777778 anos\n",
      "Altura: 169.44444444444446 cm\n"
     ]
    }
   ],
   "source": [
    "# Media de idades e altura\n",
    "print(f'Idade: {df_medidas[\"idade\"].mean()} anos')\n",
    "print(f'Altura: {df_medidas[\"altura\"].mean()} cm')"
   ]
  },
  {
   "cell_type": "code",
   "execution_count": 101,
   "metadata": {},
   "outputs": [
    {
     "name": "stdout",
     "output_type": "stream",
     "text": [
      "Idade: 40.0 anos\n",
      "Altura: 172.0 cm\n"
     ]
    }
   ],
   "source": [
    "# Mediana de idades e altura\n",
    "print(f'Idade: {df_medidas[\"idade\"].median()} anos')\n",
    "print(f'Altura: {df_medidas[\"altura\"].median()} cm')"
   ]
  },
  {
   "cell_type": "code",
   "execution_count": 102,
   "metadata": {},
   "outputs": [
    {
     "name": "stdout",
     "output_type": "stream",
     "text": [
      "Idade: 0    25\n",
      "Name: idade, dtype: int64 anos\n",
      "Altura: 0    174\n",
      "Name: altura, dtype: int64 cm\n"
     ]
    }
   ],
   "source": [
    "# Moda de idades e altura\n",
    "print(f'Idade: {df_medidas[\"idade\"].mode()} anos')\n",
    "print(f'Altura: {df_medidas[\"altura\"].mode()} cm')"
   ]
  },
  {
   "cell_type": "markdown",
   "metadata": {},
   "source": [
    "### Media de dispersão\n",
    "Medidas de dispersão são medidas que resumem a variabilidade de um conjunto de dados. As principais medidas de dispersão são:"
   ]
  },
  {
   "cell_type": "code",
   "execution_count": 103,
   "metadata": {},
   "outputs": [
    {
     "name": "stdout",
     "output_type": "stream",
     "text": [
      "Variância das idades: 509.94444444444446\n"
     ]
    }
   ],
   "source": [
    "# Variância - distanciamento dos valores em relação a média elevado ao quadrado\n",
    "print(f'Variância das idades: {df_medidas[\"idade\"].var()}')"
   ]
  },
  {
   "cell_type": "code",
   "execution_count": 104,
   "metadata": {},
   "outputs": [
    {
     "name": "stdout",
     "output_type": "stream",
     "text": [
      "Desvio padrão das idades: 22.58194952709895 anos\n"
     ]
    }
   ],
   "source": [
    "# Desvio Padrão - raiz quadrada da variância\n",
    "print(f'Desvio padrão das idades: {df_medidas[\"idade\"].std()} anos')"
   ]
  },
  {
   "cell_type": "code",
   "execution_count": 105,
   "metadata": {},
   "outputs": [
    {
     "name": "stdout",
     "output_type": "stream",
     "text": [
      "Coeficiente de variação das idades: 54.05253876167302%\n"
     ]
    }
   ],
   "source": [
    "# Coeficiente de Variação - desvio padrão em relação a média\n",
    "print(f'Coeficiente de variação das idades: {(df_medidas[\"idade\"].std() / df_medidas[\"idade\"].mean())*100}%')"
   ]
  },
  {
   "cell_type": "markdown",
   "metadata": {},
   "source": [
    "### Medidas de Forma\n",
    "Medidas de forma são medidas que resumem a forma de um conjunto de dados. As principais medidas de forma são:"
   ]
  },
  {
   "cell_type": "code",
   "execution_count": 106,
   "metadata": {},
   "outputs": [
    {
     "name": "stdout",
     "output_type": "stream",
     "text": [
      "Assimetria das idades positiva: 0.368108517895537\n"
     ]
    }
   ],
   "source": [
    "# Assimetria - indica a tendência de valores a direita (positiva) ou a esquerda (negativa) da média\n",
    "assimetria = df_medidas[\"idade\"].skew()\n",
    "if assimetria > 0:\n",
    "    print(f'Assimetria das idades positiva: {assimetria}')\n",
    "else:\n",
    "    print(f'Assimetria das idades negativa: {assimetria}')"
   ]
  },
  {
   "cell_type": "code",
   "execution_count": 107,
   "metadata": {},
   "outputs": [
    {
     "name": "stdout",
     "output_type": "stream",
     "text": [
      "Assimetria das alturas negativa: -0.598486996170113\n"
     ]
    }
   ],
   "source": [
    "assimetria_altura = df_medidas[\"altura\"].skew()\n",
    "if assimetria_altura > 0:\n",
    "    print(f'Assimetria das alturas positiva: {assimetria_altura}')\n",
    "else:\n",
    "    print(f'Assimetria das alturas negativa: {assimetria_altura}')"
   ]
  },
  {
   "cell_type": "code",
   "execution_count": 108,
   "metadata": {},
   "outputs": [
    {
     "name": "stdout",
     "output_type": "stream",
     "text": [
      "Curtose das idades menos concentrados: -1.1344461075421046\n"
     ]
    }
   ],
   "source": [
    "curtose_idade = df_medidas[\"idade\"].kurtosis()\n",
    "if curtose_idade > 0:\n",
    "    print(f'Curtose das idades mais concentrados: {curtose_idade}')\n",
    "else:\n",
    "    print(f'Curtose das idades menos concentrados: {curtose_idade}')"
   ]
  },
  {
   "cell_type": "code",
   "execution_count": 109,
   "metadata": {},
   "outputs": [
    {
     "name": "stdout",
     "output_type": "stream",
     "text": [
      "Curtose das idades menos concentrados: -1.3372641199913002\n"
     ]
    }
   ],
   "source": [
    "curtose_altura = df_medidas[\"altura\"].kurtosis()\n",
    "if curtose_altura > 0:\n",
    "    print(f'Curtose das idades mais concentrados: {curtose_altura}')\n",
    "else:\n",
    "    print(f'Curtose das idades menos concentrados: {curtose_altura}')"
   ]
  },
  {
   "cell_type": "markdown",
   "metadata": {},
   "source": [
    "## Resumo\n",
    "Neste notebook você aprendeu sobre as principais medidas de posição, dispersão e forma. Além disso, você aprendeu como criar um dicionário com dados de exemplo e como trabalhar com ele usando o pandas."
   ]
  },
  {
   "cell_type": "code",
   "execution_count": 110,
   "metadata": {},
   "outputs": [
    {
     "data": {
      "text/plain": [
       "count     9.000000\n",
       "mean     41.777778\n",
       "std      22.581950\n",
       "min      15.000000\n",
       "25%      25.000000\n",
       "50%      40.000000\n",
       "75%      58.000000\n",
       "max      80.000000\n",
       "Name: idade, dtype: float64"
      ]
     },
     "execution_count": 110,
     "metadata": {},
     "output_type": "execute_result"
    }
   ],
   "source": [
    "df_medidas.idade.describe()"
   ]
  },
  {
   "cell_type": "markdown",
   "metadata": {},
   "source": [
    "### Correlação\n",
    "Correlação é uma medida que indica o quão relacionadas estão duas variáveis. Ela é usada para resumir a relação entre duas variáveis. As principais medidas de correlação são:"
   ]
  },
  {
   "cell_type": "code",
   "execution_count": 114,
   "metadata": {},
   "outputs": [
    {
     "data": {
      "text/html": [
       "<div>\n",
       "<style scoped>\n",
       "    .dataframe tbody tr th:only-of-type {\n",
       "        vertical-align: middle;\n",
       "    }\n",
       "\n",
       "    .dataframe tbody tr th {\n",
       "        vertical-align: top;\n",
       "    }\n",
       "\n",
       "    .dataframe thead th {\n",
       "        text-align: right;\n",
       "    }\n",
       "</style>\n",
       "<table border=\"1\" class=\"dataframe\">\n",
       "  <thead>\n",
       "    <tr style=\"text-align: right;\">\n",
       "      <th></th>\n",
       "      <th>idade</th>\n",
       "      <th>altura</th>\n",
       "    </tr>\n",
       "  </thead>\n",
       "  <tbody>\n",
       "    <tr>\n",
       "      <th>idade</th>\n",
       "      <td>1.000000</td>\n",
       "      <td>0.931024</td>\n",
       "    </tr>\n",
       "    <tr>\n",
       "      <th>altura</th>\n",
       "      <td>0.931024</td>\n",
       "      <td>1.000000</td>\n",
       "    </tr>\n",
       "  </tbody>\n",
       "</table>\n",
       "</div>"
      ],
      "text/plain": [
       "           idade    altura\n",
       "idade   1.000000  0.931024\n",
       "altura  0.931024  1.000000"
      ]
     },
     "execution_count": 114,
     "metadata": {},
     "output_type": "execute_result"
    }
   ],
   "source": [
    "# Pearson - correlação entre duas variáveis\n",
    "df_medidas.corr(method=\"pearson\")"
   ]
  },
  {
   "cell_type": "code",
   "execution_count": 112,
   "metadata": {},
   "outputs": [
    {
     "data": {
      "text/html": [
       "<div>\n",
       "<style scoped>\n",
       "    .dataframe tbody tr th:only-of-type {\n",
       "        vertical-align: middle;\n",
       "    }\n",
       "\n",
       "    .dataframe tbody tr th {\n",
       "        vertical-align: top;\n",
       "    }\n",
       "\n",
       "    .dataframe thead th {\n",
       "        text-align: right;\n",
       "    }\n",
       "</style>\n",
       "<table border=\"1\" class=\"dataframe\">\n",
       "  <thead>\n",
       "    <tr style=\"text-align: right;\">\n",
       "      <th></th>\n",
       "      <th>idade</th>\n",
       "      <th>altura</th>\n",
       "    </tr>\n",
       "  </thead>\n",
       "  <tbody>\n",
       "    <tr>\n",
       "      <th>idade</th>\n",
       "      <td>1.000000</td>\n",
       "      <td>0.978803</td>\n",
       "    </tr>\n",
       "    <tr>\n",
       "      <th>altura</th>\n",
       "      <td>0.978803</td>\n",
       "      <td>1.000000</td>\n",
       "    </tr>\n",
       "  </tbody>\n",
       "</table>\n",
       "</div>"
      ],
      "text/plain": [
       "           idade    altura\n",
       "idade   1.000000  0.978803\n",
       "altura  0.978803  1.000000"
      ]
     },
     "execution_count": 112,
     "metadata": {},
     "output_type": "execute_result"
    }
   ],
   "source": [
    "# Spearman - correlação entre duas variáveis\n",
    "df_medidas.corr(method=\"spearman\")"
   ]
  }
 ],
 "metadata": {
  "kernelspec": {
   "display_name": "Estatísitica-b8f_FX07",
   "language": "python",
   "name": "python3"
  },
  "language_info": {
   "codemirror_mode": {
    "name": "ipython",
    "version": 3
   },
   "file_extension": ".py",
   "mimetype": "text/x-python",
   "name": "python",
   "nbconvert_exporter": "python",
   "pygments_lexer": "ipython3",
   "version": "3.10.12"
  }
 },
 "nbformat": 4,
 "nbformat_minor": 2
}
